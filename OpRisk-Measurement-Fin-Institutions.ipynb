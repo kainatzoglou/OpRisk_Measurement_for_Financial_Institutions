{
 "cells": [
  {
   "cell_type": "code",
   "execution_count": 2,
   "metadata": {},
   "outputs": [],
   "source": [
    "## Import libs\n",
    "\n",
    "from IPython.core.interactiveshell import InteractiveShell\n",
    "InteractiveShell.ast_node_interactivity = \"all\"\n",
    "\n",
    "import numpy as np\n",
    "import matplotlib.pyplot as plt\n",
    "import pandas as pd\n",
    "import random\n",
    "import sys\n",
    "from datetime import datetime\n",
    "import pylab\n",
    "from scipy.stats import lognorm, norm, poisson, kurtosis, laplace, shapiro, levy, gamma,truncnorm, probplot,kstest\n",
    "from scipy.stats import levy \n"
   ]
  },
  {
   "cell_type": "code",
   "execution_count": 3,
   "metadata": {},
   "outputs": [
    {
     "data": {
      "image/png": "[encoded data removed]",
      "text/plain": [
       "<Figure size 432x288 with 1 Axes>"
      ]
     },
     "metadata": {
      "needs_background": "light"
     },
     "output_type": "display_data"
    },
    {
     "data": {
      "image/png": "[encoded data removed]",
      "text/plain": [
       "<Figure size 432x288 with 1 Axes>"
      ]
     },
     "metadata": {
      "needs_background": "light"
     },
     "output_type": "display_data"
    },
    {
     "data": {
      "text/plain": [
       "[1, 3, 3, 1, 2]"
      ]
     },
     "execution_count": 3,
     "metadata": {},
     "output_type": "execute_result"
    },
    {
     "data": {
      "text/plain": [
       "array([3.32614586, 3.38655516, 2.78250383, 3.21078932, 3.13460574])"
      ]
     },
     "execution_count": 3,
     "metadata": {},
     "output_type": "execute_result"
    },
    {
     "data": {
      "text/plain": [
       "97.18253158075501"
      ]
     },
     "execution_count": 3,
     "metadata": {},
     "output_type": "execute_result"
    },
    {
     "data": {
      "text/plain": [
       "216.66666666666666"
      ]
     },
     "execution_count": 3,
     "metadata": {},
     "output_type": "execute_result"
    },
    {
     "data": {
      "text/plain": [
       "97.18253158075501"
      ]
     },
     "execution_count": 3,
     "metadata": {},
     "output_type": "execute_result"
    }
   ],
   "source": [
    "## Data imports / creation\n",
    "\n",
    "random.seed(3) ## get the same rand numbers each time\n",
    "Freq = [random.randint(1,3) for iter in  range(40)] # creates random frequency numbers between 0-3 for 40 years\n",
    "\n",
    "\n",
    "Sev = [300,300,150,150,200,400,200,200,50] # actual data\n",
    "mu = np.mean(Sev)\n",
    "stdF = np.std(Sev)\n",
    "\n",
    "distF = truncnorm(50/stdF, mu / stdF, loc=mu, scale=stdF) \n",
    "random.seed(3)\n",
    "SevR = distF.rvs(100)/100\n",
    "\n",
    "\n",
    "FreqPlot1 = plt.hist(Freq, bins = 3 ,color = \"red\") ## visualise the samples\n",
    "plt.show(FreqPlot1)\n",
    "SevPlot1 = plt.hist(SevR,bins = 5, color = \"blue\") ## visualise the samples\n",
    "plt.show(SevPlot1)\n",
    "\n",
    "Freq[:5]\n",
    "SevR[:5]\n",
    "stdF\n",
    "mu\n",
    "stdF\n",
    "\n"
   ]
  },
  {
   "cell_type": "code",
   "execution_count": 4,
   "metadata": {},
   "outputs": [
    {
     "name": "stdout",
     "output_type": "stream",
     "text": [
      "2.05\n"
     ]
    },
    {
     "data": {
      "text/plain": [
       "<Figure size 720x432 with 0 Axes>"
      ]
     },
     "execution_count": 4,
     "metadata": {},
     "output_type": "execute_result"
    },
    {
     "data": {
      "text/plain": [
       "<BarContainer object of 9 artists>"
      ]
     },
     "execution_count": 4,
     "metadata": {},
     "output_type": "execute_result"
    },
    {
     "data": {
      "text/plain": [
       "Text(0, 0.5, 'Probability')"
      ]
     },
     "execution_count": 4,
     "metadata": {},
     "output_type": "execute_result"
    },
    {
     "data": {
      "text/plain": [
       "Text(0.5, 1.0, 'Loss Frequency Distribution')"
      ]
     },
     "execution_count": 4,
     "metadata": {},
     "output_type": "execute_result"
    },
    {
     "data": {
      "image/png": "[encoded data removed]",
      "text/plain": [
       "<Figure size 720x432 with 1 Axes>"
      ]
     },
     "metadata": {
      "needs_background": "light"
     },
     "output_type": "display_data"
    }
   ],
   "source": [
    "## Estimate frequency distriubution , poisson\n",
    "\n",
    "# calculate the lambda parameter, either use the random numbers or 1, uncomment appropriately \n",
    "\n",
    "lamda = np.sum(Freq) / (len(Freq)) # it is 2.05 using random numbers\n",
    "#lamda = 1 # actual data assuming 1 loss event per year\n",
    "print(lamda)\n",
    "\n",
    "# draw random variables from a Poisson distribtion with lambda\n",
    "prvs = poisson.rvs(lamda, size=(100))\n",
    " \n",
    "# plot the pdf, loss frequency distribution\n",
    "h = plt.hist(prvs, bins=range(0, 10))\n",
    "plt.close(\"all\")\n",
    "y = h[0]/np.sum(h[0])\n",
    "x = h[1]\n",
    " \n",
    "plt.figure(figsize=(10, 6))\n",
    "plt.bar(x[:-1], y, width=0.7, align='center', color=\"#2c97f1\")\n",
    "plt.ylabel(\"Probability\", fontsize=14)\n",
    "plt.title(\"Loss Frequency Distribution\", fontsize=14)"
   ]
  },
  {
   "cell_type": "code",
   "execution_count": 5,
   "metadata": {},
   "outputs": [
    {
     "data": {
      "text/plain": [
       "(array([0.90848096, 0.81763286, 0.72678477, 0.39367508, 0.18169619]),\n",
       " array([2.67119348, 3.00141504, 3.3316366 , 3.66185816, 3.99207972,\n",
       "        4.32230129]),\n",
       " <a list of 5 Patch objects>)"
      ]
     },
     "execution_count": 5,
     "metadata": {},
     "output_type": "execute_result"
    },
    {
     "data": {
      "text/plain": [
       "[<matplotlib.lines.Line2D at 0x19bf1a55bb0>]"
      ]
     },
     "execution_count": 5,
     "metadata": {},
     "output_type": "execute_result"
    },
    {
     "data": {
      "text/plain": [
       "Text(0.5, 1.0, 'Severity Loss Normal Distribution: mu = 3.29 , std = 0.41')"
      ]
     },
     "execution_count": 5,
     "metadata": {},
     "output_type": "execute_result"
    },
    {
     "data": {
      "image/png": "[encoded data removed]",
      "text/plain": [
       "<Figure size 432x288 with 1 Axes>"
      ]
     },
     "metadata": {
      "needs_background": "light"
     },
     "output_type": "display_data"
    }
   ],
   "source": [
    "## Estimate severity distribution: Normal\n",
    "\n",
    "# fit distribution to data\n",
    "mu, std = norm.fit(SevR)\n",
    "\n",
    "# hist\n",
    "plt.hist(SevR,bins=5, density=True, alpha=0.7, color='g')\n",
    "\n",
    "# Plot the pdf\n",
    "xmin, xmax = plt.xlim()\n",
    "x = np.linspace(xmin,xmax,1000)\n",
    "npdf = norm.pdf(x,mu,std)\n",
    "plt.plot(x,npdf,'k')\n",
    "title = \"Severity Loss Normal Distribution: mu = %.2f , std = %.2f\" % (mu,std)\n",
    "plt.title(title)\n",
    "\n",
    "plt.show()"
   ]
  },
  {
   "cell_type": "code",
   "execution_count": 9,
   "metadata": {},
   "outputs": [
    {
     "data": {
      "text/plain": [
       "(array([0.90848096, 0.81763286, 0.72678477, 0.39367508, 0.18169619]),\n",
       " array([2.67119348, 3.00141504, 3.3316366 , 3.66185816, 3.99207972,\n",
       "        4.32230129]),\n",
       " <a list of 5 Patch objects>)"
      ]
     },
     "execution_count": 9,
     "metadata": {},
     "output_type": "execute_result"
    },
    {
     "data": {
      "text/plain": [
       "[<matplotlib.lines.Line2D at 0x19bf1bf26a0>]"
      ]
     },
     "execution_count": 9,
     "metadata": {},
     "output_type": "execute_result"
    },
    {
     "data": {
      "text/plain": [
       "(2.0, 5.0)"
      ]
     },
     "execution_count": 9,
     "metadata": {},
     "output_type": "execute_result"
    },
    {
     "data": {
      "text/plain": [
       "Text(0.5, 1.0, 'Severity Distribution')"
      ]
     },
     "execution_count": 9,
     "metadata": {},
     "output_type": "execute_result"
    },
    {
     "data": {
      "text/plain": [
       "Text(0.5, 0, 'Loss ($100Ms)')"
      ]
     },
     "execution_count": 9,
     "metadata": {},
     "output_type": "execute_result"
    },
    {
     "data": {
      "text/plain": [
       "Text(0, 0.5, 'N')"
      ]
     },
     "execution_count": 9,
     "metadata": {},
     "output_type": "execute_result"
    },
    {
     "name": "stdout",
     "output_type": "stream",
     "text": [
      "67.31951373160358 0 0.048860199483721785\n"
     ]
    },
    {
     "data": {
      "image/png": "[encoded data removed]",
      "text/plain": [
       "<Figure size 432x288 with 1 Axes>"
      ]
     },
     "metadata": {
      "needs_background": "light"
     },
     "output_type": "display_data"
    }
   ],
   "source": [
    "## Estimate severity distribution: Gamma\n",
    "\n",
    "# hist\n",
    "plt.hist(SevR,bins=5, density=True, alpha=0.7, color='g')\n",
    "\n",
    "\n",
    "# Plot the pdf\n",
    "xmin, xmax = plt.xlim()\n",
    "x = np.linspace(xmin,xmax,100)\n",
    "\n",
    "\n",
    "a,loc,scale = gamma.fit(SevR,floc=0)\n",
    "y = gamma.pdf(x,a,loc,scale)\n",
    "plt.plot(x,y)\n",
    "plt.xlim([2, 5])\n",
    "plt.title(\"Severity Distribution\", fontsize=14)\n",
    "plt.xlabel(\"Loss ($100Ms)\", fontsize=12)\n",
    "plt.ylabel(\"N\", fontsize=12)\n",
    "\n",
    "print(a, loc, scale)"
   ]
  },
  {
   "cell_type": "code",
   "execution_count": null,
   "metadata": {},
   "outputs": [],
   "source": [
    "## Estimate severity distribution: Log Normal\n",
    "\n",
    "#y = np.log(SevR)\n",
    "\n",
    "\n",
    "y  = sevR\n",
    "\n",
    "\n",
    "\n",
    "plt.hist(y, bins=5, density=True, alpha=0.7, color='g')\n",
    "xmin, xmax = plt.xlim()\n",
    "x = np.linspace(xmin,xmax,100)\n",
    "\n",
    "sig, loc, scale = lognorm.fit(y)\n",
    "pdf = lognorm.pdf(x, sig, loc=loc, scale=scale)\n",
    "plt.plot(x, pdf, 'r')\n",
    "plt.xlim([2, 5])\n",
    "plt.title(\"Severity Distribution\", fontsize=14)\n",
    "plt.xlabel(\"Loss ($100Ms)\", fontsize=12)\n",
    "plt.ylabel(\"N\", fontsize=12)\n",
    " \n",
    "print(sig, loc, scale)  # lognormal pdf's parameters\n",
    "\n",
    "y[:5]\n"
   ]
  },
  {
   "cell_type": "code",
   "execution_count": null,
   "metadata": {},
   "outputs": [],
   "source": [
    "## Monte Carlo log normal\n",
    "\n",
    "# The parameters loc,sig, scale + others would need to be adjusted depending on the severity distribution we use.\n",
    "# If we change our poisson dist, we also need to add the approriate parameters in \n",
    "random.seed(3)\n",
    "def loss(r, loc, sig, scale, lamda):\n",
    "    X = []\n",
    "    for x in range(11):  # up to 10 loss events considered\n",
    "        if(r < poisson.cdf(x, lamda)):  # x denotes a loss number\n",
    "            out = 0\n",
    "        else:\n",
    "            out = lognorm.rvs(s=sig, loc=loc, scale=scale)\n",
    "        X.append(out)\n",
    "    return np.sum(X)  # = L_1 + L_2 + ... + L_n\n",
    "    \n",
    " \n",
    "# run 10k Monte Carlo simulations\n",
    "losses = []\n",
    "for _ in range(10000):   # change number to run N amounts of sims\n",
    "    random.seed(3)\n",
    "    r = np.random.random()\n",
    "    losses.append(loss(r, loc, sig, scale, lamda))\n",
    "    \n",
    " \n",
    "h = plt.hist(losses, bins=range(0, 30))\n",
    "_ = plt.close(\"all\")\n",
    "y = h[0]/np.sum(h[0])\n",
    "x = h[1]\n",
    " \n",
    "plt.figure(figsize=(10, 6))\n",
    "plt.bar(x[:-1], y, width=0.7, align='center', color=\"#ff5a19\")\n",
    "plt.title(\"Modelled Loss Distribution - log normal\", fontsize=14)\n",
    "plt.xlabel(\"Loss ($100Ms)\", fontsize=12)\n",
    "plt.ylabel(\"Probability of Loss\", fontsize=12)"
   ]
  },
  {
   "cell_type": "code",
   "execution_count": null,
   "metadata": {},
   "outputs": [],
   "source": [
    "## Monte Carlo gamma\n",
    "\n",
    "# The parameters loc,sig, scale + others would need to be adjusted depending on the severity distribution we use.\n",
    "# If we change our poisson dist, we also need to add the approriate parameters in \n",
    "random.seed(3)\n",
    "def loss(r, loc, a, scale, lamda):\n",
    "    X = []\n",
    "    for x in range(11):  # up to 10 loss events considered\n",
    "        if(r < poisson.cdf(x, lamda)):  # x denotes a loss number\n",
    "            out = 0\n",
    "        else:\n",
    "            out = gamma.rvs(a=a, loc=loc, scale=scale)\n",
    "        X.append(out)\n",
    "    return np.sum(X)  # = L_1 + L_2 + ... + L_n\n",
    "    \n",
    " \n",
    "# run 10k Monte Carlo simulations\n",
    "losses = []\n",
    "for _ in range(10000):   # change number to run N amounts of sims\n",
    "    random.seed(3)\n",
    "    r = np.random.random()\n",
    "    losses.append(loss(r, loc, a, scale, lamda))\n",
    "    \n",
    " \n",
    "h = plt.hist(losses, bins=range(0, 30))\n",
    "_ = plt.close(\"all\")\n",
    "y = h[0]/np.sum(h[0])\n",
    "x = h[1]\n",
    " \n",
    "plt.figure(figsize=(10, 6))\n",
    "plt.bar(x[:-1], y, width=0.7, align='center', color=\"#ff5a19\")\n",
    "plt.title(\"Modelled Loss Distribution - gamma\", fontsize=14)\n",
    "plt.xlabel(\"Loss ($100Ms)\", fontsize=12)\n",
    "plt.ylabel(\"Probability of Loss\", fontsize=12)"
   ]
  },
  {
   "cell_type": "code",
   "execution_count": null,
   "metadata": {},
   "outputs": [],
   "source": [
    "## QQ plot lognormal dist\n",
    "\n",
    "probplot(SevR, dist=\"lognorm\",sparams=(sig), plot=pylab) ## uses shape parameter from lognormal in QQ plot\n",
    "pylab.show()\n",
    "\n"
   ]
  },
  {
   "cell_type": "code",
   "execution_count": null,
   "metadata": {},
   "outputs": [],
   "source": [
    "## QQ plot gamma dist\n",
    "mu = np.mean(SevR)\n",
    "\n",
    "probplot(SevR, dist=\"gamma\",sparams=(mu), plot=plt) ## uses shape parameter from lognormal in QQ plot\n",
    "#pylab.show()\n"
   ]
  },
  {
   "cell_type": "code",
   "execution_count": null,
   "metadata": {},
   "outputs": [],
   "source": [
    "## Kolomogorov-smirnoff test\n",
    "\n",
    "kstest(Freq, 'poisson',args=(lamda,)) ## test that our frequency data fits a poisson distribution\n",
    "\n",
    "## p-value is less than 0.05, so we cannot reject the null that they are the same dist.\n",
    "\n"
   ]
  },
  {
   "cell_type": "code",
   "execution_count": null,
   "metadata": {},
   "outputs": [],
   "source": [
    "kstest(SevR, 'gamma',args=(mu,))"
   ]
  },
  {
   "cell_type": "code",
   "execution_count": null,
   "metadata": {},
   "outputs": [],
   "source": [
    "kstest(SevR, 'lognorm',args=(sig,))"
   ]
  },
  {
   "cell_type": "code",
   "execution_count": null,
   "metadata": {},
   "outputs": [],
   "source": []
  }
 ],
 "metadata": {
  "kernelspec": {
   "display_name": "Python 3",
   "language": "python",
   "name": "python3"
  },
  "language_info": {
   "codemirror_mode": {
    "name": "ipython",
    "version": 3
   },
   "file_extension": ".py",
   "mimetype": "text/x-python",
   "name": "python",
   "nbconvert_exporter": "python",
   "pygments_lexer": "ipython3",
   "version": "3.8.3"
  }
 },
 "nbformat": 4,
 "nbformat_minor": 2
}
